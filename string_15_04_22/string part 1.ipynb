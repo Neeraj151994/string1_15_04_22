{
 "cells": [
  {
   "cell_type": "code",
   "execution_count": null,
   "id": "ca7054e1",
   "metadata": {},
   "outputs": [],
   "source": [
    "# string\n",
    "#string doesnt have reassignment item\n",
    "# we can delete the whole str not a word or charcter\n",
    "# WE CAN not del or update a single charcter\n"
   ]
  },
  {
   "cell_type": "code",
   "execution_count": 1,
   "id": "88ffd2de",
   "metadata": {},
   "outputs": [
    {
     "name": "stdout",
     "output_type": "stream",
     "text": [
      "INDIA\n"
     ]
    }
   ],
   "source": [
    "#string inbuilt functions\n",
    "#1.upper()\n",
    "#for calling a function \n",
    "#string.method name\n",
    "s=\"india\" # in lower case \n",
    "print(s.upper())"
   ]
  },
  {
   "cell_type": "code",
   "execution_count": 3,
   "id": "4f368ec2",
   "metadata": {},
   "outputs": [
    {
     "name": "stdout",
     "output_type": "stream",
     "text": [
      "india\n"
     ]
    }
   ],
   "source": [
    "#2. lower function\n",
    "#   string.lower()\n",
    "a=\"INDIA\" #uppercase string to lower case string \n",
    "print(a.lower())"
   ]
  },
  {
   "cell_type": "code",
   "execution_count": 5,
   "id": "09d3dc33",
   "metadata": {},
   "outputs": [
    {
     "name": "stdout",
     "output_type": "stream",
     "text": [
      "True\n"
     ]
    }
   ],
   "source": [
    "#3. isalnum()\n",
    "#check string is a mixture of number and string give true or false in  \n",
    "t=\"123india\" #alphannumeric string \n",
    "print(t.isalnum())"
   ]
  },
  {
   "cell_type": "code",
   "execution_count": 6,
   "id": "a5b81fa3",
   "metadata": {},
   "outputs": [
    {
     "name": "stdout",
     "output_type": "stream",
     "text": [
      "False\n"
     ]
    }
   ],
   "source": [
    "s=\" num123 \" # space  in string give false in output\n",
    "print(s.isalnum())"
   ]
  },
  {
   "cell_type": "code",
   "execution_count": 7,
   "id": "18ad7816",
   "metadata": {},
   "outputs": [
    {
     "name": "stdout",
     "output_type": "stream",
     "text": [
      "True\n"
     ]
    }
   ],
   "source": [
    "#4. isalpha()\n",
    "# if all the charcter is in string format it gives true otherwise false output\n",
    "o=\"bbbVVVVV\"\n",
    "print(o.isalpha())"
   ]
  },
  {
   "cell_type": "code",
   "execution_count": 9,
   "id": "b5bad3d3",
   "metadata": {},
   "outputs": [
    {
     "name": "stdout",
     "output_type": "stream",
     "text": [
      "125nh\n",
      "False\n"
     ]
    }
   ],
   "source": [
    "# 5. isdigit()\n",
    "# check weather the string contains 0-9 number\n",
    "d=input()\n",
    "print(d.isdigit()) #bcz in input it have str in so it give output false output "
   ]
  },
  {
   "cell_type": "code",
   "execution_count": 13,
   "id": "06be175d",
   "metadata": {},
   "outputs": [
    {
     "name": "stdout",
     "output_type": "stream",
     "text": [
      "-----456ssss\n",
      "True\n"
     ]
    }
   ],
   "source": [
    "#6 . islower()\n",
    "# all string  members are in lower case(only consider alphabets)\n",
    "#no spaces are also allowed \n",
    "#note when a upper case letter is found it will give false \n",
    "a=input()\n",
    "print(a.islower())"
   ]
  },
  {
   "cell_type": "code",
   "execution_count": 16,
   "id": "d5320143",
   "metadata": {},
   "outputs": [
    {
     "name": "stdout",
     "output_type": "stream",
     "text": [
      "NUMB\n",
      "True\n"
     ]
    }
   ],
   "source": [
    "# 7. isupper()\n",
    "# all String member are in uppercase \n",
    "# except lowercase  everything will give true in mix with Uppercase character\n",
    "a=input()\n",
    "print(a.isupper())"
   ]
  },
  {
   "cell_type": "code",
   "execution_count": 18,
   "id": "278e3397",
   "metadata": {},
   "outputs": [
    {
     "name": "stdout",
     "output_type": "stream",
     "text": [
      "VI\n",
      "False\n"
     ]
    }
   ],
   "source": [
    "#roman,hindi,greek,--all numbers are identified here \n",
    "# digits are the subsets of numerics\n",
    "#NUMERIC-- NUMBER system \n",
    "i=str(input())\n",
    "print(i.isnumeric())"
   ]
  },
  {
   "cell_type": "code",
   "execution_count": 19,
   "id": "a748a7bb",
   "metadata": {},
   "outputs": [
    {
     "name": "stdout",
     "output_type": "stream",
     "text": [
      "Star\n",
      "True\n"
     ]
    }
   ],
   "source": [
    "# 8. istitle() it check string first letter of alphabet is capital \n",
    "e=input()\n",
    "print(e.istitle())"
   ]
  },
  {
   "cell_type": "code",
   "execution_count": 22,
   "id": "1e0c095f",
   "metadata": {},
   "outputs": [
    {
     "name": "stdout",
     "output_type": "stream",
     "text": [
      "Sssc45i Se\n",
      "False\n"
     ]
    }
   ],
   "source": [
    "i=input()\n",
    "print(i.istitle())"
   ]
  },
  {
   "cell_type": "code",
   "execution_count": 23,
   "id": "7a8afd6d",
   "metadata": {},
   "outputs": [
    {
     "name": "stdout",
     "output_type": "stream",
     "text": [
      "Neta\n",
      "Na\n",
      "-1\n"
     ]
    }
   ],
   "source": [
    "w=input()\n",
    "y=input()\n",
    "print(w.find(y))"
   ]
  },
  {
   "cell_type": "code",
   "execution_count": 28,
   "id": "1011875c",
   "metadata": {},
   "outputs": [
    {
     "name": "stdout",
     "output_type": "stream",
     "text": [
      "Neeraj\n",
      "r\n",
      "3\n"
     ]
    }
   ],
   "source": [
    "# 9. find\n",
    "#str.find(sub,start,end)\n",
    "w=input()\n",
    "y=input()\n",
    "print(w.find(y,2,5))"
   ]
  },
  {
   "cell_type": "code",
   "execution_count": 2,
   "id": "439c5bb4",
   "metadata": {},
   "outputs": [
    {
     "name": "stdout",
     "output_type": "stream",
     "text": [
      "neerajkumar\n",
      "e\n",
      "2\n"
     ]
    }
   ],
   "source": [
    "# 10.count() count the occurence of character in str \n",
    "a=input() #a is the input string of from the user side \n",
    "b=input() # b is the charcter which we want to find in string \n",
    "print(a.count(b))"
   ]
  },
  {
   "cell_type": "code",
   "execution_count": 3,
   "id": "3fd97846",
   "metadata": {},
   "outputs": [
    {
     "name": "stdout",
     "output_type": "stream",
     "text": [
      "neeraj\n",
      "a\n",
      "4\n"
     ]
    }
   ],
   "source": [
    "# 11. index() it tells the first occurence of character index in string \n",
    "d=input()\n",
    "b=input()# b is the charcter which we want to know index position in string \n",
    "\n",
    "print(d.index(b))"
   ]
  },
  {
   "cell_type": "code",
   "execution_count": 4,
   "id": "b6550707",
   "metadata": {},
   "outputs": [
    {
     "name": "stdout",
     "output_type": "stream",
     "text": [
      "n\n",
      "k\n",
      "False\n",
      "False\n"
     ]
    }
   ],
   "source": [
    "#12. endswith() ====op is true or false based on test\n",
    "#13. startswith()  ===op is true or false based on test\n",
    "d=input()\n",
    "b=input()\n",
    "print(d.endswith(b))\n",
    "print(d.startswith(b))"
   ]
  },
  {
   "cell_type": "code",
   "execution_count": 1,
   "id": "5e8d5335",
   "metadata": {},
   "outputs": [
    {
     "name": "stdout",
     "output_type": "stream",
     "text": [
      "neeraj\n",
      "Neeraj\n"
     ]
    }
   ],
   "source": [
    "#14. capitalize() it capitalize the first charcter of the string \n",
    "i=input()\n",
    "print(i.capitalize())"
   ]
  },
  {
   "cell_type": "code",
   "execution_count": 2,
   "id": "f51e694b",
   "metadata": {},
   "outputs": [
    {
     "data": {
      "text/plain": [
       "4.0"
      ]
     },
     "execution_count": 2,
     "metadata": {},
     "output_type": "execute_result"
    }
   ],
   "source": [
    "100/25"
   ]
  },
  {
   "cell_type": "code",
   "execution_count": 3,
   "id": "dedbccdb",
   "metadata": {},
   "outputs": [
    {
     "name": "stdout",
     "output_type": "stream",
     "text": [
      "False\n"
     ]
    }
   ],
   "source": [
    "print(\"p\" in \"Python\")"
   ]
  },
  {
   "cell_type": "code",
   "execution_count": 4,
   "id": "a96acf46",
   "metadata": {},
   "outputs": [
    {
     "data": {
      "text/plain": [
       "4"
      ]
     },
     "execution_count": 4,
     "metadata": {},
     "output_type": "execute_result"
    }
   ],
   "source": [
    "9//2"
   ]
  },
  {
   "cell_type": "code",
   "execution_count": 5,
   "id": "cfba87ba",
   "metadata": {},
   "outputs": [
    {
     "name": "stdout",
     "output_type": "stream",
     "text": [
      "good\n"
     ]
    }
   ],
   "source": [
    "if (9<0)and (0<-9):\n",
    "    print(\"hello\")\n",
    "elif(9>0) or False:\n",
    "    print(\"good\")\n",
    "else:\n",
    "    print(\"bad\")"
   ]
  },
  {
   "cell_type": "code",
   "execution_count": 8,
   "id": "21b94953",
   "metadata": {},
   "outputs": [
    {
     "data": {
      "text/plain": [
       "False"
      ]
     },
     "execution_count": 8,
     "metadata": {},
     "output_type": "execute_result"
    }
   ],
   "source": [
    "#not(3>4)\n",
    "not(1&1)"
   ]
  },
  {
   "cell_type": "code",
   "execution_count": null,
   "id": "84ad7c76",
   "metadata": {},
   "outputs": [],
   "source": []
  }
 ],
 "metadata": {
  "kernelspec": {
   "display_name": "Python 3 (ipykernel)",
   "language": "python",
   "name": "python3"
  },
  "language_info": {
   "codemirror_mode": {
    "name": "ipython",
    "version": 3
   },
   "file_extension": ".py",
   "mimetype": "text/x-python",
   "name": "python",
   "nbconvert_exporter": "python",
   "pygments_lexer": "ipython3",
   "version": "3.10.1"
  }
 },
 "nbformat": 4,
 "nbformat_minor": 5
}
